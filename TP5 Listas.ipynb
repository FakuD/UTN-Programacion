{
 "cells": [
  {
   "cell_type": "code",
   "execution_count": null,
   "id": "ff48799f",
   "metadata": {},
   "outputs": [
    {
     "name": "stdout",
     "output_type": "stream",
     "text": [
      "[4, 8, 12, 16, 20, 24, 28, 32, 36, 40, 44, 48, 52, 56, 60, 64, 68, 72, 76, 80, 84, 88, 92, 96]\n"
     ]
    }
   ],
   "source": [
    "#Ejercicio 1\n",
    "\n",
    "\n",
    "lista_nueva =[]\n",
    "\n",
    "for i in range(1, 100):\n",
    "    if i % 4 ==0:\n",
    "        lista_nueva.append(i)\n",
    "\n",
    "print(lista_nueva)"
   ]
  },
  {
   "cell_type": "code",
   "execution_count": 5,
   "id": "5d879f23",
   "metadata": {},
   "outputs": [
    {
     "name": "stdout",
     "output_type": "stream",
     "text": [
      "21\n"
     ]
    }
   ],
   "source": [
    "#Ejercicio 2 \n",
    "\n",
    "lista_aleatoria = [12, 42, 66, 21, 67]\n",
    "\n",
    "print(lista_aleatoria[-2])"
   ]
  },
  {
   "cell_type": "code",
   "execution_count": 6,
   "id": "b3c8e35c",
   "metadata": {},
   "outputs": [
    {
     "name": "stdout",
     "output_type": "stream",
     "text": [
      "['Sompoltrofro', 'Parangulo', 'Tirinpila']\n"
     ]
    }
   ],
   "source": [
    "#Ejercicio 3\n",
    "\n",
    "lista_vacia=[]\n",
    "\n",
    "lista_vacia.append(\"Sompoltrofro\")\n",
    "\n",
    "lista_vacia.append(\"Parangulo\")\n",
    "\n",
    "lista_vacia.append(\"Tirinpila\")\n",
    "\n",
    "print(lista_vacia)"
   ]
  },
  {
   "cell_type": "code",
   "execution_count": 8,
   "id": "051244cb",
   "metadata": {},
   "outputs": [
    {
     "name": "stdout",
     "output_type": "stream",
     "text": [
      "['perro', 'loro', 'conejo', 'oso']\n"
     ]
    }
   ],
   "source": [
    "#Ejercicio 4\n",
    "\n",
    "animales = [\"perro\", \"gato\", \"conejo\", \"pez\"]\n",
    "\n",
    "animales[1] = \"loro\"\n",
    "\n",
    "animales[-1] = \"oso\"\n",
    "\n",
    "print(animales)\n"
   ]
  },
  {
   "cell_type": "code",
   "execution_count": null,
   "id": "b0c9633b",
   "metadata": {},
   "outputs": [
    {
     "name": "stdout",
     "output_type": "stream",
     "text": [
      "[1, 2, 4, 5, 6]\n"
     ]
    }
   ],
   "source": [
    "#Ejercicio 5\n",
    "\n",
    "#Remueve el numero maximo (el mayor) de la lista.\n",
    "\n"
   ]
  },
  {
   "cell_type": "code",
   "execution_count": 19,
   "id": "7fb22e89",
   "metadata": {},
   "outputs": [
    {
     "name": "stdout",
     "output_type": "stream",
     "text": [
      "10\n",
      "15\n"
     ]
    }
   ],
   "source": [
    "#Ejercicio 6\n",
    "\n",
    "lista_nueva=[]\n",
    "\n",
    "for i in range(10, 31, 5):\n",
    "        lista_nueva.append(i)\n",
    "\n",
    "print(lista_nueva[0])\n",
    "print(lista_nueva[1])\n"
   ]
  },
  {
   "cell_type": "code",
   "execution_count": 20,
   "id": "cfbc0ab3",
   "metadata": {},
   "outputs": [
    {
     "name": "stdout",
     "output_type": "stream",
     "text": [
      "['sedan', 'Hotwels', 'Shummager', 'gol']\n"
     ]
    }
   ],
   "source": [
    "#Ejercicio 7 \n",
    "\n",
    "autos = [\"sedan\", \"polo\", \"suran\", \"gol\"]\n",
    "\n",
    "autos[1]= \"Hotwels\"\n",
    "\n",
    "autos[2]= \"Shummager\"\n",
    "\n",
    "print(autos)"
   ]
  },
  {
   "cell_type": "code",
   "execution_count": 26,
   "id": "3529ddb9",
   "metadata": {},
   "outputs": [
    {
     "name": "stdout",
     "output_type": "stream",
     "text": [
      "[10, 20, 30]\n"
     ]
    }
   ],
   "source": [
    "#Ejercicio 8\n",
    "\n",
    "dobles =[]\n",
    "\n",
    "for i in range(5, 16, 5):\n",
    "    i *=2\n",
    "    dobles.append(i)\n",
    "\n",
    "\n",
    "print(dobles)"
   ]
  },
  {
   "cell_type": "code",
   "execution_count": 34,
   "id": "7feaf26c",
   "metadata": {},
   "outputs": [
    {
     "name": "stdout",
     "output_type": "stream",
     "text": [
      "[['leche'], ['arroz', 'tallarines', 'salsa'], ['agua', 'jugo']]\n"
     ]
    }
   ],
   "source": [
    "#Ejercicio 9\n",
    "\n",
    "compras = [[\"pan\", \"leche\"], [\"arroz\", \"fideos\", \"salsa\"],\n",
    "[\"agua\"]]\n",
    "\n",
    "compras[2].append(\"jugo\")\n",
    "compras[1][1] =\"tallarines\"\n",
    "compras[0].remove(\"pan\")\n",
    "print(compras)\n"
   ]
  },
  {
   "cell_type": "code",
   "execution_count": null,
   "id": "aaef5075",
   "metadata": {},
   "outputs": [
    {
     "name": "stdout",
     "output_type": "stream",
     "text": [
      "57.9\n"
     ]
    }
   ],
   "source": [
    "#Ejercicio 10\n",
    "\n",
    "lista_anidada=[15,True,[25.5, 57.9,30.6],False]\n",
    "\n",
    "\n"
   ]
  }
 ],
 "metadata": {
  "kernelspec": {
   "display_name": "Python 3",
   "language": "python",
   "name": "python3"
  },
  "language_info": {
   "codemirror_mode": {
    "name": "ipython",
    "version": 3
   },
   "file_extension": ".py",
   "mimetype": "text/x-python",
   "name": "python",
   "nbconvert_exporter": "python",
   "pygments_lexer": "ipython3",
   "version": "3.11.0"
  }
 },
 "nbformat": 4,
 "nbformat_minor": 5
}
