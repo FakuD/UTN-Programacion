{
 "cells": [
  {
   "cell_type": "code",
   "execution_count": 1,
   "id": "145585ce",
   "metadata": {},
   "outputs": [
    {
     "name": "stdout",
     "output_type": "stream",
     "text": [
      "{'Banana': 1200, 'Ananá': 2500, 'Melón': 3000, 'Uva': 1450, 'Naranja': 1200, 'Manzana': 1500, 'Pera': 2300}\n"
     ]
    }
   ],
   "source": [
    "precios_frutas = {'Banana': 1200, 'Ananá': 2500, 'Melón': 3000, 'Uva':\n",
    "1450}\n",
    "\n",
    "precios_frutas[\"Naranja\"] = 1200\n",
    "precios_frutas[\"Manzana\"] = 1500\n",
    "precios_frutas[\"Pera\"] = 2300\n",
    "\n",
    "print(precios_frutas)\n"
   ]
  },
  {
   "cell_type": "code",
   "execution_count": 2,
   "id": "770e6597",
   "metadata": {},
   "outputs": [
    {
     "name": "stdout",
     "output_type": "stream",
     "text": [
      "{'Banana': 1330, 'Ananá': 2500, 'Melón': 1800, 'Uva': 1450, 'Naranja': 1200, 'Manzana': 1700, 'Pera': 2300}\n"
     ]
    }
   ],
   "source": [
    "precios_frutas[\"Banana\"] = 1330\n",
    "precios_frutas[\"Manzana\"] = 1700\n",
    "precios_frutas[\"Melón\"] = 1800\n",
    "\n",
    "\n",
    "print(precios_frutas)"
   ]
  },
  {
   "cell_type": "code",
   "execution_count": 3,
   "id": "7751c7ed",
   "metadata": {},
   "outputs": [
    {
     "name": "stdout",
     "output_type": "stream",
     "text": [
      "['Banana', 'Ananá', 'Melón', 'Uva', 'Naranja', 'Manzana', 'Pera']\n"
     ]
    }
   ],
   "source": [
    "frutas_keys = precios_frutas.keys()\n",
    "lista_frutas = list(frutas_keys)\n",
    "print(lista_frutas)"
   ]
  },
  {
   "cell_type": "code",
   "execution_count": 4,
   "id": "ac4ee15f",
   "metadata": {},
   "outputs": [
    {
     "name": "stdout",
     "output_type": "stream",
     "text": [
      "--- 1. Carga de 5 Contactos ---\n",
      "El número debe contener solo dígitos. Intente de nuevo.\n",
      "El número debe contener solo dígitos. Intente de nuevo.\n",
      "El número debe contener solo dígitos. Intente de nuevo.\n",
      "El número debe contener solo dígitos. Intente de nuevo.\n",
      "El número debe contener solo dígitos. Intente de nuevo.\n",
      "El número debe contener solo dígitos. Intente de nuevo.\n",
      "El número debe contener solo dígitos. Intente de nuevo.\n"
     ]
    },
    {
     "ename": "KeyboardInterrupt",
     "evalue": "Interrupted by user",
     "output_type": "error",
     "traceback": [
      "\u001b[31m---------------------------------------------------------------------------\u001b[39m",
      "\u001b[31mKeyboardInterrupt\u001b[39m                         Traceback (most recent call last)",
      "\u001b[36mCell\u001b[39m\u001b[36m \u001b[39m\u001b[32mIn[4]\u001b[39m\u001b[32m, line 15\u001b[39m\n\u001b[32m     12\u001b[39m     \u001b[38;5;28mprint\u001b[39m(\u001b[33m\"\u001b[39m\u001b[33mEl nombre no puede estar vacío. Intente de nuevo.\u001b[39m\u001b[33m\"\u001b[39m)\n\u001b[32m     14\u001b[39m \u001b[38;5;28;01mwhile\u001b[39;00m \u001b[38;5;28;01mTrue\u001b[39;00m:\n\u001b[32m---> \u001b[39m\u001b[32m15\u001b[39m     numero = \u001b[38;5;28;43minput\u001b[39;49m\u001b[43m(\u001b[49m\u001b[33;43mf\u001b[39;49m\u001b[33;43m\"\u001b[39;49m\u001b[33;43mIngrese el número de teléfono para \u001b[39;49m\u001b[38;5;132;43;01m{\u001b[39;49;00m\u001b[43mnombre\u001b[49m\u001b[38;5;132;43;01m}\u001b[39;49;00m\u001b[33;43m: \u001b[39;49m\u001b[33;43m\"\u001b[39;49m\u001b[43m)\u001b[49m.strip()\n\u001b[32m     16\u001b[39m     \u001b[38;5;28;01mif\u001b[39;00m numero.isdigit():  \u001b[38;5;66;03m# Verificamos que sea un número (o al menos dígitos)\u001b[39;00m\n\u001b[32m     17\u001b[39m         \u001b[38;5;28;01mbreak\u001b[39;00m\n",
      "\u001b[36mFile \u001b[39m\u001b[32m~\\AppData\\Roaming\\Python\\Python311\\site-packages\\ipykernel\\kernelbase.py:1260\u001b[39m, in \u001b[36mKernel.raw_input\u001b[39m\u001b[34m(self, prompt)\u001b[39m\n\u001b[32m   1258\u001b[39m     msg = \u001b[33m\"\u001b[39m\u001b[33mraw_input was called, but this frontend does not support input requests.\u001b[39m\u001b[33m\"\u001b[39m\n\u001b[32m   1259\u001b[39m     \u001b[38;5;28;01mraise\u001b[39;00m StdinNotImplementedError(msg)\n\u001b[32m-> \u001b[39m\u001b[32m1260\u001b[39m \u001b[38;5;28;01mreturn\u001b[39;00m \u001b[38;5;28;43mself\u001b[39;49m\u001b[43m.\u001b[49m\u001b[43m_input_request\u001b[49m\u001b[43m(\u001b[49m\n\u001b[32m   1261\u001b[39m \u001b[43m    \u001b[49m\u001b[38;5;28;43mstr\u001b[39;49m\u001b[43m(\u001b[49m\u001b[43mprompt\u001b[49m\u001b[43m)\u001b[49m\u001b[43m,\u001b[49m\n\u001b[32m   1262\u001b[39m \u001b[43m    \u001b[49m\u001b[38;5;28;43mself\u001b[39;49m\u001b[43m.\u001b[49m\u001b[43m_parent_ident\u001b[49m\u001b[43m[\u001b[49m\u001b[33;43m\"\u001b[39;49m\u001b[33;43mshell\u001b[39;49m\u001b[33;43m\"\u001b[39;49m\u001b[43m]\u001b[49m\u001b[43m,\u001b[49m\n\u001b[32m   1263\u001b[39m \u001b[43m    \u001b[49m\u001b[38;5;28;43mself\u001b[39;49m\u001b[43m.\u001b[49m\u001b[43mget_parent\u001b[49m\u001b[43m(\u001b[49m\u001b[33;43m\"\u001b[39;49m\u001b[33;43mshell\u001b[39;49m\u001b[33;43m\"\u001b[39;49m\u001b[43m)\u001b[49m\u001b[43m,\u001b[49m\n\u001b[32m   1264\u001b[39m \u001b[43m    \u001b[49m\u001b[43mpassword\u001b[49m\u001b[43m=\u001b[49m\u001b[38;5;28;43;01mFalse\u001b[39;49;00m\u001b[43m,\u001b[49m\n\u001b[32m   1265\u001b[39m \u001b[43m\u001b[49m\u001b[43m)\u001b[49m\n",
      "\u001b[36mFile \u001b[39m\u001b[32m~\\AppData\\Roaming\\Python\\Python311\\site-packages\\ipykernel\\kernelbase.py:1305\u001b[39m, in \u001b[36mKernel._input_request\u001b[39m\u001b[34m(self, prompt, ident, parent, password)\u001b[39m\n\u001b[32m   1302\u001b[39m \u001b[38;5;28;01mexcept\u001b[39;00m \u001b[38;5;167;01mKeyboardInterrupt\u001b[39;00m:\n\u001b[32m   1303\u001b[39m     \u001b[38;5;66;03m# re-raise KeyboardInterrupt, to truncate traceback\u001b[39;00m\n\u001b[32m   1304\u001b[39m     msg = \u001b[33m\"\u001b[39m\u001b[33mInterrupted by user\u001b[39m\u001b[33m\"\u001b[39m\n\u001b[32m-> \u001b[39m\u001b[32m1305\u001b[39m     \u001b[38;5;28;01mraise\u001b[39;00m \u001b[38;5;167;01mKeyboardInterrupt\u001b[39;00m(msg) \u001b[38;5;28;01mfrom\u001b[39;00m\u001b[38;5;250m \u001b[39m\u001b[38;5;28;01mNone\u001b[39;00m\n\u001b[32m   1306\u001b[39m \u001b[38;5;28;01mexcept\u001b[39;00m \u001b[38;5;167;01mException\u001b[39;00m:\n\u001b[32m   1307\u001b[39m     \u001b[38;5;28mself\u001b[39m.log.warning(\u001b[33m\"\u001b[39m\u001b[33mInvalid Message:\u001b[39m\u001b[33m\"\u001b[39m, exc_info=\u001b[38;5;28;01mTrue\u001b[39;00m)\n",
      "\u001b[31mKeyboardInterrupt\u001b[39m: Interrupted by user"
     ]
    }
   ],
   "source": [
    "# Inicializamos un diccionario vacío para almacenar los contactos\n",
    "agenda_telefonica = {}\n",
    "NUM_CONTACTOS = 5\n",
    "\n",
    "# --- 1. Cargar 5 contactos ---\n",
    "print(f\"--- 1. Carga de {NUM_CONTACTOS} Contactos ---\")\n",
    "for i in range(NUM_CONTACTOS):\n",
    "    while True:\n",
    "        nombre = input(f\"Ingrese el nombre del contacto #{i+1}: \").strip()\n",
    "        if nombre:\n",
    "            break\n",
    "        print(\"El nombre no puede estar vacío. Intente de nuevo.\")\n",
    "    \n",
    "    while True:\n",
    "        numero = input(f\"Ingrese el número de teléfono para {nombre}: \").strip()\n",
    "        if numero.isdigit():  # Verificamos que sea un número (o al menos dígitos)\n",
    "            break\n",
    "        print(\"El número debe contener solo dígitos. Intente de nuevo.\")\n",
    "        \n",
    "    # Agregamos el par nombre-número al diccionario\n",
    "    agenda_telefonica[nombre] = numero\n",
    "\n",
    "print(\"\\n¡Contactos cargados exitosamente!\")\n",
    "# print(f\"Agenda actual: {agenda_telefonica}\") # Descomentar para ver la agenda completa\n",
    "\n",
    "print(\"\\n\" + \"=\"*40 + \"\\n\")\n",
    "\n",
    "# --- 2. Consultar un número telefónico ---\n",
    "print(\"--- 2. Consulta de Número Telefónico ---\")\n",
    "nombre_consulta = input(\"Ingrese el nombre del contacto cuyo número desea consultar: \").strip()\n",
    "\n",
    "# Usamos el método .get() para buscar el nombre\n",
    "# get() es seguro porque devuelve None si la clave no existe, evitando errores.\n",
    "numero_encontrado = agenda_telefonica.get(nombre_consulta)\n",
    "\n",
    "if numero_encontrado:\n",
    "    # Si el nombre existe (el valor no es None)\n",
    "    print(f\"\\n✅ El número de teléfono de {nombre_consulta} es: {numero_encontrado}\")\n",
    "else:\n",
    "    # Si el nombre NO existe\n",
    "    print(f\"\\n❌ Lo siento, el contacto '{nombre_consulta}' no se encuentra en la agenda.\")"
   ]
  },
  {
   "cell_type": "code",
   "execution_count": null,
   "id": "42b14943",
   "metadata": {},
   "outputs": [],
   "source": [
    "def procesar_frase():\n",
    "    # 1. Solicitar la frase al usuario\n",
    "    frase = input(\"Introduce una frase (Ej: hola mundo hola): \").strip()\n",
    "    \n",
    "    # --- Preparación de la Frase ---\n",
    "    \n",
    "    # Convertir a minúsculas para asegurar que 'Hola' y 'hola' se cuenten como la misma palabra.\n",
    "    # También eliminamos signos de puntuación comunes para una mejor limpieza.\n",
    "    frase_limpia = frase.lower().replace(',', '').replace('.', '').replace(';', '').replace(':', '')\n",
    "    \n",
    "    # Dividir la frase en una lista de palabras\n",
    "    # split() por defecto divide por espacios\n",
    "    palabras = frase_limpia.split()\n",
    "    \n",
    "    # Verificar si hay palabras para procesar\n",
    "    if not palabras:\n",
    "        print(\"\\nNo se encontraron palabras para procesar.\")\n",
    "        return\n",
    "\n",
    "    # --- 2. Palabras Únicas (Usando un set) ---\n",
    "    \n",
    "    # Convertir la lista de palabras a un conjunto (set) elimina automáticamente duplicados\n",
    "    palabras_unicas = set(palabras)\n",
    "\n",
    "    # --- 3. Diccionario con el Recuento de Palabras ---\n",
    "    \n",
    "    recuento_palabras = {}\n",
    "    \n",
    "    # Recorrer la lista de palabras para contar la frecuencia\n",
    "    for palabra in palabras:\n",
    "        # Si la palabra ya está en el diccionario, incrementamos su valor (conteo)\n",
    "        if palabra in recuento_palabras:\n",
    "            recuento_palabras[palabra] += 1\n",
    "        # Si la palabra es nueva, la agregamos con un valor inicial de 1\n",
    "        else:\n",
    "            recuento_palabras[palabra] = 1\n",
    "\n",
    "    # --- Impresión de Resultados ---\n",
    "    print(\"\\n#Salida:\")\n",
    "    print(f\"Palabras únicas: {palabras_unicas}\")\n",
    "    print(f\"Recuento: {recuento_palabras}\")\n",
    "\n",
    "# Ejecutar la función principal\n",
    "procesar_frase()"
   ]
  },
  {
   "cell_type": "code",
   "execution_count": null,
   "id": "f87f9c38",
   "metadata": {},
   "outputs": [
    {
     "ename": "KeyboardInterrupt",
     "evalue": "Interrupted by user",
     "output_type": "error",
     "traceback": [
      "\u001b[31m---------------------------------------------------------------------------\u001b[39m",
      "\u001b[31mKeyboardInterrupt\u001b[39m                         Traceback (most recent call last)",
      "\u001b[36mCell\u001b[39m\u001b[36m \u001b[39m\u001b[32mIn[26]\u001b[39m\u001b[32m, line 10\u001b[39m\n\u001b[32m      8\u001b[39m \u001b[38;5;28;01mfor\u001b[39;00m i \u001b[38;5;129;01min\u001b[39;00m \u001b[38;5;28mrange\u001b[39m (\u001b[32m5\u001b[39m):\n\u001b[32m      9\u001b[39m     \u001b[38;5;28;01mwhile\u001b[39;00m \u001b[38;5;28;01mTrue\u001b[39;00m:\n\u001b[32m---> \u001b[39m\u001b[32m10\u001b[39m         entrada= \u001b[38;5;28;43minput\u001b[39;49m\u001b[43m(\u001b[49m\u001b[33;43mf\u001b[39;49m\u001b[33;43m\"\u001b[39;49m\u001b[33;43mIntroduzca el nombre del contacto n° \u001b[39;49m\u001b[38;5;132;43;01m{\u001b[39;49;00m\u001b[43mi\u001b[49m\u001b[43m+\u001b[49m\u001b[32;43m1\u001b[39;49m\u001b[38;5;132;43;01m}\u001b[39;49;00m\u001b[33;43m\"\u001b[39;49m\u001b[43m)\u001b[49m\n\u001b[32m     11\u001b[39m         nombre = entrada.strip()\n\u001b[32m     12\u001b[39m         \u001b[38;5;28;01mif\u001b[39;00m nombre == \u001b[33m\"\u001b[39m\u001b[33m\"\u001b[39m:\n",
      "\u001b[36mFile \u001b[39m\u001b[32m~\\AppData\\Roaming\\Python\\Python311\\site-packages\\ipykernel\\kernelbase.py:1260\u001b[39m, in \u001b[36mKernel.raw_input\u001b[39m\u001b[34m(self, prompt)\u001b[39m\n\u001b[32m   1258\u001b[39m     msg = \u001b[33m\"\u001b[39m\u001b[33mraw_input was called, but this frontend does not support input requests.\u001b[39m\u001b[33m\"\u001b[39m\n\u001b[32m   1259\u001b[39m     \u001b[38;5;28;01mraise\u001b[39;00m StdinNotImplementedError(msg)\n\u001b[32m-> \u001b[39m\u001b[32m1260\u001b[39m \u001b[38;5;28;01mreturn\u001b[39;00m \u001b[38;5;28;43mself\u001b[39;49m\u001b[43m.\u001b[49m\u001b[43m_input_request\u001b[49m\u001b[43m(\u001b[49m\n\u001b[32m   1261\u001b[39m \u001b[43m    \u001b[49m\u001b[38;5;28;43mstr\u001b[39;49m\u001b[43m(\u001b[49m\u001b[43mprompt\u001b[49m\u001b[43m)\u001b[49m\u001b[43m,\u001b[49m\n\u001b[32m   1262\u001b[39m \u001b[43m    \u001b[49m\u001b[38;5;28;43mself\u001b[39;49m\u001b[43m.\u001b[49m\u001b[43m_parent_ident\u001b[49m\u001b[43m[\u001b[49m\u001b[33;43m\"\u001b[39;49m\u001b[33;43mshell\u001b[39;49m\u001b[33;43m\"\u001b[39;49m\u001b[43m]\u001b[49m\u001b[43m,\u001b[49m\n\u001b[32m   1263\u001b[39m \u001b[43m    \u001b[49m\u001b[38;5;28;43mself\u001b[39;49m\u001b[43m.\u001b[49m\u001b[43mget_parent\u001b[49m\u001b[43m(\u001b[49m\u001b[33;43m\"\u001b[39;49m\u001b[33;43mshell\u001b[39;49m\u001b[33;43m\"\u001b[39;49m\u001b[43m)\u001b[49m\u001b[43m,\u001b[49m\n\u001b[32m   1264\u001b[39m \u001b[43m    \u001b[49m\u001b[43mpassword\u001b[49m\u001b[43m=\u001b[49m\u001b[38;5;28;43;01mFalse\u001b[39;49;00m\u001b[43m,\u001b[49m\n\u001b[32m   1265\u001b[39m \u001b[43m\u001b[49m\u001b[43m)\u001b[49m\n",
      "\u001b[36mFile \u001b[39m\u001b[32m~\\AppData\\Roaming\\Python\\Python311\\site-packages\\ipykernel\\kernelbase.py:1305\u001b[39m, in \u001b[36mKernel._input_request\u001b[39m\u001b[34m(self, prompt, ident, parent, password)\u001b[39m\n\u001b[32m   1302\u001b[39m \u001b[38;5;28;01mexcept\u001b[39;00m \u001b[38;5;167;01mKeyboardInterrupt\u001b[39;00m:\n\u001b[32m   1303\u001b[39m     \u001b[38;5;66;03m# re-raise KeyboardInterrupt, to truncate traceback\u001b[39;00m\n\u001b[32m   1304\u001b[39m     msg = \u001b[33m\"\u001b[39m\u001b[33mInterrupted by user\u001b[39m\u001b[33m\"\u001b[39m\n\u001b[32m-> \u001b[39m\u001b[32m1305\u001b[39m     \u001b[38;5;28;01mraise\u001b[39;00m \u001b[38;5;167;01mKeyboardInterrupt\u001b[39;00m(msg) \u001b[38;5;28;01mfrom\u001b[39;00m\u001b[38;5;250m \u001b[39m\u001b[38;5;28;01mNone\u001b[39;00m\n\u001b[32m   1306\u001b[39m \u001b[38;5;28;01mexcept\u001b[39;00m \u001b[38;5;167;01mException\u001b[39;00m:\n\u001b[32m   1307\u001b[39m     \u001b[38;5;28mself\u001b[39m.log.warning(\u001b[33m\"\u001b[39m\u001b[33mInvalid Message:\u001b[39m\u001b[33m\"\u001b[39m, exc_info=\u001b[38;5;28;01mTrue\u001b[39;00m)\n",
      "\u001b[31mKeyboardInterrupt\u001b[39m: Interrupted by user"
     ]
    }
   ],
   "source": [
    "#Cargar contactos de telefono\n",
    "\n",
    "\n",
    "agenda = {}\n",
    "\n",
    "#Se agregan nombres y numeros a la agenda\n",
    "\n",
    "for i in range (5):\n",
    "    while True:\n",
    "        entrada= input(f\"Introduzca el nombre del contacto n° {i+1}\")\n",
    "        nombre = entrada.strip()\n",
    "        if nombre == \"\":\n",
    "            print(\"el nombre no puede estar vacio\")\n",
    "            continue\n",
    "        break\n",
    "    while True:\n",
    "        telefono = input(f\"digite el numero de telefono para {nombre}: \")\n",
    "        if not telefono.isdigit():\n",
    "            print(\"No puede contener digitos\")\n",
    "            continue\n",
    "        telefono = int(telefono)\n",
    "        \n",
    "        \n",
    "\n",
    "        break               \n",
    "    agenda[nombre] = telefono\n",
    "\n",
    "print(agenda)\n",
    "\n",
    "\n",
    "\n",
    "#Se busca en la agenda los nombres\n",
    "\n",
    "name = input(\"escbriba el nombre de la agenda: \")\n",
    "\n",
    "numero_encontrado = agenda.get(name)\n",
    "\n",
    "if numero_encontrado:\n",
    "    print(f\"el contacto {name} tiene como numero {numero_encontrado}\")\n",
    "else:\n",
    "    print(\"No se encontro el numero\")\n",
    "    \n",
    "    "
   ]
  },
  {
   "cell_type": "code",
   "execution_count": 29,
   "id": "7c409b43",
   "metadata": {},
   "outputs": [
    {
     "name": "stdout",
     "output_type": "stream",
     "text": [
      "['hola', 'mundo', 'hola', 'hola']\n",
      "La frase sin palabras duplicadas: {'mundo', 'hola'}\n",
      "recuento de palabras: {'hola': 3, 'mundo': 1}\n"
     ]
    }
   ],
   "source": [
    "#incertar frase\n",
    "\n",
    "\n",
    "\n",
    "frase = input(\"Incerte una frase: \").lower()\n",
    "\n",
    "\n",
    "\n",
    "frase = frase.replace(\",\",\"\").replace(\"!\", \"\")\n",
    "\n",
    "\n",
    "\n",
    "#Se corta la frase en tajadas\n",
    "\n",
    "lista_frase = frase.split()\n",
    "\n",
    "\n",
    "\n",
    "print(lista_frase)\n",
    "\n",
    "\n",
    "\n",
    "set_frase = set(lista_frase)\n",
    "\n",
    "\n",
    "\n",
    "print(f\"La frase sin palabras duplicadas: {set_frase}\")\n",
    "\n",
    "\n",
    "\n",
    "dict1 = {}\n",
    "\n",
    "\n",
    "\n",
    "for palabra in lista_frase:\n",
    "\n",
    "    if palabra in dict1:\n",
    "\n",
    "        dict1[palabra]+=1\n",
    "\n",
    "    else:\n",
    "\n",
    "        dict1[palabra]=1\n",
    "\n",
    "\n",
    "\n",
    "print(f\"recuento de palabras: {dict1}\")\n",
    "\n",
    "\n",
    "\n",
    "\n",
    "\n"
   ]
  },
  {
   "cell_type": "code",
   "execution_count": 4,
   "id": "f18f4ee5",
   "metadata": {},
   "outputs": [
    {
     "name": "stdout",
     "output_type": "stream",
     "text": [
      "{'Pedro': (6, 8, 4), 'Mario': (9, 6, 2)}\n",
      "Pedro: promedio 6.00\n",
      "Mario: promedio 5.67\n"
     ]
    }
   ],
   "source": [
    "\n",
    "alumnos = {}\n",
    "\n",
    "for i in range(2):\n",
    "    nombre = input(f\"Ingrese el nombre del alumno n°{i+1}: \")\n",
    "    lista_notas = []\n",
    "    for j in range(3):\n",
    "        0 == \"matematica\"\n",
    "        1 == \"Lengua\"\n",
    "        2 == \"Geografia\"\n",
    "        nota= int(input(f\"incerte la nota para {j}: \"))\n",
    "\n",
    "        lista_notas.append(nota)\n",
    "    alumnos[nombre] = tuple(lista_notas)    \n",
    "\n",
    "print(alumnos)    \n",
    "\n",
    "for nombre, notas in alumnos.items():\n",
    "    promedio = sum(notas) / len(notas)\n",
    "    print(f\"{nombre}: promedio {promedio:.2f}\")\n"
   ]
  },
  {
   "cell_type": "code",
   "execution_count": null,
   "id": "c8641639",
   "metadata": {},
   "outputs": [
    {
     "name": "stdout",
     "output_type": "stream",
     "text": [
      "Aprobaron Parcial 1: {115, 101, 150, 120, 105, 110}\n",
      "Aprobaron Parcial 2: {160, 130, 115, 101, 105, 125}\n",
      "\n",
      "• Estudiantes que aprobaron AMBOS parciales (Intersección):\n",
      "  {105, 115, 101}\n",
      "\n",
      "• Estudiantes que aprobaron SOLO UNO de los dos (Diferencia Simétrica):\n",
      "  {160, 130, 110, 150, 120, 125}\n",
      "\n",
      "• Lista total de estudiantes que aprobaron AL MENOS UN parcial (Unión):\n",
      "  {160, 130, 101, 105, 110, 115, 150, 120, 125}\n"
     ]
    },
    {
     "ename": "",
     "evalue": "",
     "output_type": "error",
     "traceback": [
      "\u001b[1;31mThe Kernel crashed while executing code in the current cell or a previous cell. \n",
      "\u001b[1;31mPlease review the code in the cell(s) to identify a possible cause of the failure. \n",
      "\u001b[1;31mClick <a href='https://aka.ms/vscodeJupyterKernelCrash'>here</a> for more info. \n",
      "\u001b[1;31mView Jupyter <a href='command:jupyter.viewOutput'>log</a> for further details."
     ]
    }
   ],
   "source": [
    "# Datos de ejemplo (puedes usar los que desees)\n",
    "parcial1_aprobados = {101, 105, 110, 115, 120, 150}\n",
    "parcial2_aprobados = {105, 115, 125, 130, 101, 160}\n",
    "\n",
    "print(f\"Aprobaron Parcial 1: {parcial1_aprobados}\")\n",
    "print(f\"Aprobaron Parcial 2: {parcial2_aprobados}\\n\")\n",
    "\n",
    "# --- 1. Aprobaron ambos parciales (Intersección) ---\n",
    "# Se utiliza el operador de intersección (&) o el método .intersection()\n",
    "ambos_parciales = parcial1_aprobados & parcial2_aprobados\n",
    "# Estos son los elementos que están en AMBOS conjuntos.\n",
    "print(\"• Estudiantes que aprobaron AMBOS parciales (Intersección):\")\n",
    "print(f\"  {ambos_parciales}\") # Resultado: {101, 105, 115}\n",
    "\n",
    "# ----------------------------------------------------------------------\n",
    "\n",
    "# --- 2. Aprobaron solo uno de los dos (Diferencia Simétrica) ---\n",
    "# Se utiliza el operador de diferencia simétrica (^) o el método .symmetric_difference()\n",
    "solo_uno = parcial1_aprobados ^ parcial2_aprobados\n",
    "# Estos son los elementos que están en A o en B, pero NO en la intersección.\n",
    "print(\"\\n• Estudiantes que aprobaron SOLO UNO de los dos (Diferencia Simétrica):\")\n",
    "print(f\"  {solo_uno}\") # Resultado: {120, 125, 130, 150, 160, 110}\n",
    "\n",
    "# ----------------------------------------------------------------------\n",
    "\n",
    "# --- 3. Lista total que aprobó al menos un parcial (Unión) ---\n",
    "# Se utiliza el operador de unión (|) o el método .union()\n",
    "al_menos_uno = parcial1_aprobados | parcial2_aprobados\n",
    "# Esto junta todos los elementos de ambos conjuntos, eliminando duplicados.\n",
    "print(\"\\n• Lista total de estudiantes que aprobaron AL MENOS UN parcial (Unión):\")\n",
    "print(f\"  {al_menos_uno}\")"
   ]
  },
  {
   "cell_type": "code",
   "execution_count": null,
   "id": "a5e4f277",
   "metadata": {},
   "outputs": [],
   "source": [
    "def gestionar_stock():\n",
    "    # Diccionario inicial (puedes empezar vacío, pero aquí hay un ejemplo)\n",
    "    stock_productos = {\n",
    "        \"Monitor\": 50,\n",
    "        \"Teclado\": 120,\n",
    "        \"Mouse\": 85\n",
    "    }\n",
    "\n",
    "    print(\"--- Sistema de Gestión de Stock ---\")\n",
    "    while True:\n",
    "        print(\"\\n--- STOCK ACTUAL ---\")\n",
    "        # Mostrar el stock actual para referencia\n",
    "        for producto, stock in stock_productos.items():\n",
    "             print(f\"- {producto}: {stock} unidades\")\n",
    "             \n",
    "        print(\"\\nOpciones:\")\n",
    "        print(\"1. Consultar Stock de un producto\")\n",
    "        print(\"2. Agregar Unidades / Producto Nuevo\")\n",
    "        print(\"3. Salir\")\n",
    "        \n",
    "        opcion = input(\"Ingrese una opción (1, 2 o 3): \").strip()\n",
    "\n",
    "        # --- Opción 1: Consultar Stock ---\n",
    "        if opcion == '1':\n",
    "            nombre_producto = input(\"Ingrese el nombre del producto a consultar: \").strip()\n",
    "            \n",
    "            # Usamos el método .get() para evitar errores si el producto no existe\n",
    "            cantidad = stock_productos.get(nombre_producto)\n",
    "            \n",
    "            if cantidad is not None:\n",
    "                print(f\" El stock actual de {nombre_producto} es: {cantidad} unidades.\")\n",
    "            else:\n",
    "                print(f\" Producto '{nombre_producto}' no encontrado en el sistema.\")\n",
    "\n",
    "        # --- Opción 2: Agregar Unidades / Producto Nuevo ---\n",
    "        elif opcion == '2':\n",
    "            nombre_producto = input(\"Ingrese el nombre del producto (o nuevo producto): \").strip()\n",
    "            \n",
    "            # Bucle para asegurar que las unidades ingresadas sean un número positivo\n",
    "            while True:\n",
    "                try:\n",
    "                    unidades_a_agregar = int(input(\"Ingrese la cantidad de unidades a agregar: \"))\n",
    "                    if unidades_a_agregar < 0:\n",
    "                         print(\"La cantidad debe ser positiva.\")\n",
    "                    else:\n",
    "                        break\n",
    "                except ValueError:\n",
    "                    print(\"Entrada inválida. Ingrese un número entero.\")\n",
    "\n",
    "            # Comprobar si el producto ya existe en el diccionario\n",
    "            if nombre_producto in stock_productos:\n",
    "                # El producto ya existe (Agregar unidades)\n",
    "                stock_productos[nombre_producto] += unidades_a_agregar\n",
    "                print(f\" Stock de {nombre_producto} actualizado. Nuevo total: {stock_productos[nombre_producto]}.\")\n",
    "            else:\n",
    "                # El producto no existe (Agregar nuevo producto)\n",
    "                stock_productos[nombre_producto] = unidades_a_agregar\n",
    "                print(f\" Producto '{nombre_producto}' agregado con un stock inicial de {unidades_a_agregar}.\")\n",
    "\n",
    "        # --- Opción 3: Salir ---\n",
    "        elif opcion == '3':\n",
    "            print(\"\\nSaliendo del sistema. ¡Adiós!\")\n",
    "            break\n",
    "\n",
    "        # --- Manejo de opción inválida ---\n",
    "        else:\n",
    "            print(\"Opción no válida. Intente de nuevo.\")\n",
    "\n",
    "# Ejecutar la función\n",
    "gestionar_stock()"
   ]
  },
  {
   "cell_type": "code",
   "execution_count": null,
   "id": "076a97f8",
   "metadata": {},
   "outputs": [
    {
     "name": "stdout",
     "output_type": "stream",
     "text": [
      "--- Consulta de Agenda ---\n"
     ]
    }
   ],
   "source": [
    "#Ejercicio 9\n",
    "\n",
    "agenda = {\n",
    "    (\"lunes\", \"10:00\"): \"Reunión de equipo\",\n",
    "    (\"martes\", \"15:00\"): \"Clase de inglés\",\n",
    "    (\"miércoles\", \"09:00\"): \"Cita con el dentista\",\n",
    "    (\"viernes\", \"21:00\"): \"Cena con amigos\"\n",
    "}\n",
    "\n",
    "print(\"--- Consulta de Agenda ---\")\n",
    "\n",
    "dia_consulta = input(\"Introduce el día a consultar: \").lower().strip()\n",
    "hora_consulta = input(\"Introduce la hora (formato HH:MM): \").strip()\n",
    "\n",
    "clave_a_buscar = (dia_consulta, hora_consulta)\n",
    "\n",
    "if clave_a_buscar in agenda:\n",
    "    evento = agenda[clave_a_buscar]\n",
    "    print(f\" La actividad programada es: {evento}\")\n",
    "else:\n",
    "    print(\"no se encontro ningun evento para ese horario y dia\")\n"
   ]
  },
  {
   "cell_type": "code",
   "execution_count": 1,
   "id": "e92c1d3f",
   "metadata": {},
   "outputs": [
    {
     "name": "stdout",
     "output_type": "stream",
     "text": [
      "{'Buenos Aires': 'Argentina', 'Santiago': 'Chile', 'Brasilia': 'Brasil'}\n"
     ]
    }
   ],
   "source": [
    "#Ejercicio 10\n",
    "\n",
    "\n",
    "pais = {\"Argentina\" : \"Buenos Aires\", \"Chile\": \"Santiago\", \"Brasil\":\"Brasilia\"}\n",
    "\n",
    "invertido = {}\n",
    "\n",
    "\n",
    "for pais, capital in pais.items():\n",
    "    invertido[capital]= pais\n",
    "print(invertido)\n",
    "\n",
    "\n"
   ]
  }
 ],
 "metadata": {
  "kernelspec": {
   "display_name": "llm_cuda",
   "language": "python",
   "name": "python3"
  },
  "language_info": {
   "codemirror_mode": {
    "name": "ipython",
    "version": 3
   },
   "file_extension": ".py",
   "mimetype": "text/x-python",
   "name": "python",
   "nbconvert_exporter": "python",
   "pygments_lexer": "ipython3",
   "version": "3.11.11"
  }
 },
 "nbformat": 4,
 "nbformat_minor": 5
}
