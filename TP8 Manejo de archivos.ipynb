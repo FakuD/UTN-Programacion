{
 "cells": [
  {
   "cell_type": "code",
   "execution_count": 12,
   "id": "a2f4fb8c",
   "metadata": {},
   "outputs": [],
   "source": [
    "#Ejercicio 1\n",
    "\n",
    "with open(\"productos.csv\", \"w\") as archivo:    \n",
    "    archivo.write(\"Bandeja,3000,5\\n\")\n",
    "    archivo.write(\"Telescopio,40000,3\\n\")\n",
    "    archivo.write(\"Paparapsi,20000,2\\n\")"
   ]
  },
  {
   "cell_type": "code",
   "execution_count": 13,
   "id": "61bcace7",
   "metadata": {},
   "outputs": [
    {
     "name": "stdout",
     "output_type": "stream",
     "text": [
      "Nombre = Bandeja Precio = 3000 $ Cantidad = 5\n",
      "Nombre = Telescopio Precio = 40000 $ Cantidad = 3\n",
      "Nombre = Paparapsi Precio = 20000 $ Cantidad = 2\n"
     ]
    }
   ],
   "source": [
    "#ejercicio2 \n",
    "\n",
    "with open(\"productos.csv\", \"r\") as archivo:\n",
    "    lineas = archivo.readlines()\n",
    "    \n",
    "    for linea in lineas:\n",
    "        partes = linea.strip().split(\",\")\n",
    "        print(f\"Nombre = {partes[0]} Precio = {partes[1]} $ Cantidad = {partes[2]}\")"
   ]
  },
  {
   "cell_type": "code",
   "execution_count": 15,
   "id": "bee90ad1",
   "metadata": {},
   "outputs": [
    {
     "name": "stdout",
     "output_type": "stream",
     "text": [
      "No puede estar vacio\n",
      "No puede estar vacio\n",
      "No puede ser digito\n",
      "No puede ser digito\n",
      "Debe ser un digito\n",
      "Debe ser un digito\n",
      "Nombre = Bandeja Precio = 3000 $ Cantidad = 5\n",
      "Nombre = Telescopio Precio = 40000 $ Cantidad = 3\n",
      "Nombre = Paparapsi Precio = 20000 $ Cantidad = 2\n",
      "Nombre = Tongoch Precio = 25000 $ Cantidad = 50\n"
     ]
    }
   ],
   "source": [
    "#Ejercicio 3\n",
    "\n",
    "\n",
    "while True:\n",
    "    nombre = input(\"Ingrese el nombre del producto\")\n",
    "    if nombre ==\"\":\n",
    "        print(\"No puede estar vacio\")\n",
    "        continue\n",
    "    if nombre.isdigit():\n",
    "        print(\"No puede ser digito\")\n",
    "        continue\n",
    "    break\n",
    "\n",
    "while True:\n",
    "    try:\n",
    "        precio=int(input(\"Ingrese el precio\"))\n",
    "    \n",
    "    except ValueError:\n",
    "        print(\"Debe ser un digito\")\n",
    "        continue\n",
    "    break\n",
    "\n",
    "while True:\n",
    "    try:\n",
    "        cantidad = int(input(\"Ingrese una cantidad\"))\n",
    "    except ValueError:\n",
    "        continue\n",
    "    break\n",
    "\n",
    "linea_a_escribir= f\"{nombre},{precio},{cantidad}\\n\"\n",
    "    \n",
    "\n",
    "with open(\"productos.csv\", \"a\") as archivo:    \n",
    "    archivo.write(linea_a_escribir)\n",
    "\n",
    "\n",
    "with open(\"productos.csv\", \"r\") as archivo:\n",
    "    lineas = archivo.readlines()\n",
    "    \n",
    "    for linea in lineas:\n",
    "        partes = linea.strip().split(\",\")\n",
    "        print(f\"Nombre = {partes[0]} Precio = {partes[1]} $ Cantidad = {partes[2]}\")\n",
    "\n"
   ]
  },
  {
   "cell_type": "code",
   "execution_count": 16,
   "id": "3194c946",
   "metadata": {},
   "outputs": [
    {
     "name": "stdout",
     "output_type": "stream",
     "text": [
      "--- Lista de productos cargada ---\n",
      "{'nombre': 'Bandeja', 'precio': 3000.0, 'cantidad': 5}\n",
      "{'nombre': 'Telescopio', 'precio': 40000.0, 'cantidad': 3}\n",
      "{'nombre': 'Paparapsi', 'precio': 20000.0, 'cantidad': 2}\n",
      "{'nombre': 'Tongoch', 'precio': 25000.0, 'cantidad': 50}\n"
     ]
    }
   ],
   "source": [
    "#Ejercicio 4\n",
    "\n",
    "productos = []\n",
    "\n",
    "with open(\"productos.csv\", \"r\") as archivo:\n",
    "    lineas = archivo.readlines()\n",
    "\n",
    "    for linea in lineas:\n",
    "        partes = linea.strip().split(\",\")\n",
    "        producto_dic = {\n",
    "                \"nombre\": partes[0],\n",
    "                \"precio\": float(partes[1]),  # Convertimos el precio a número decimal (float)\n",
    "                \"cantidad\": int(partes[2])   # Convertimos la cantidad a número entero (int)\n",
    "            }\n",
    "        productos.append(producto_dic)\n",
    "\n",
    "print(\"--- Lista de productos cargada ---\")\n",
    "if productos:\n",
    "    for producto in productos:\n",
    "        print(producto)"
   ]
  },
  {
   "cell_type": "code",
   "execution_count": 22,
   "id": "06013399",
   "metadata": {},
   "outputs": [
    {
     "name": "stdout",
     "output_type": "stream",
     "text": [
      "{'nombre': 'Bandeja', 'precio': 3000.0, 'cantidad': 5}\n",
      "{'nombre': 'Telescopio', 'precio': 40000.0, 'cantidad': 3}\n",
      "{'nombre': 'Paparapsi', 'precio': 20000.0, 'cantidad': 2}\n",
      "{'nombre': 'Tongoch', 'precio': 25000.0, 'cantidad': 50}\n",
      "prodcuto encontrado\n",
      "El precio del producto es 3000.0\n",
      "La cantidad del producto es 5\n"
     ]
    }
   ],
   "source": [
    "#Ejercicio 5\n",
    "\n",
    "if productos:\n",
    "    for producto in productos:\n",
    "        print(producto)\n",
    "\n",
    "\n",
    "name = input(\"Escriba el nombre del producto a buscar\")\n",
    "\n",
    "\n",
    "producto_encontrado = None\n",
    "\n",
    "for producto in productos:\n",
    "    if producto[\"nombre\"] == name:\n",
    "        print(\"prodcuto encontrado\")\n",
    "        print(f\"El precio del producto es {producto[\"precio\"]}\")\n",
    "        print(f\"La cantidad del producto es {producto[\"cantidad\"]}\")        \n",
    "        break\n",
    "    else:\n",
    "        print(\"producto no encontrado\")\n",
    "\n",
    "\n",
    "\n",
    "\n",
    "\n"
   ]
  },
  {
   "cell_type": "code",
   "execution_count": 28,
   "id": "2dc2c2e9",
   "metadata": {},
   "outputs": [
    {
     "name": "stdout",
     "output_type": "stream",
     "text": [
      "\n",
      "✅ Éxito: Se ha guardado y sobrescrito el archivo 'productos.csv' con 4 productos.\n"
     ]
    }
   ],
   "source": [
    "#Ejercicio 6\n",
    "\n",
    "with open(\"productos.csv\", \"w\") as archivo:\n",
    "            # 1. Opcional: Escribir el encabezado (si lo tienes)\n",
    "            archivo.write(\"nombre,precio,cantidad\\n\")\n",
    "            \n",
    "            # 2. Recorrer la lista de diccionarios\n",
    "            for producto in productos:\n",
    "                # 3. Formatear la línea CSV usando f-string\n",
    "                # NOTA: Usamos str() para asegurar que los números se conviertan a texto.\n",
    "                linea_csv = f\"{producto['nombre']},{producto['precio']},{producto['cantidad']}\\n\"\n",
    "                \n",
    "                # 4. Escribir la línea en el archivo\n",
    "                archivo.write(linea_csv)\n",
    "        \n",
    "print(f\"\\n✅ Éxito: Se ha guardado y sobrescrito el archivo '{\"productos.csv\"}' con {len(productos)} productos.\")"
   ]
  }
 ],
 "metadata": {
  "kernelspec": {
   "display_name": "base",
   "language": "python",
   "name": "python3"
  },
  "language_info": {
   "codemirror_mode": {
    "name": "ipython",
    "version": 3
   },
   "file_extension": ".py",
   "mimetype": "text/x-python",
   "name": "python",
   "nbconvert_exporter": "python",
   "pygments_lexer": "ipython3",
   "version": "3.12.7"
  }
 },
 "nbformat": 4,
 "nbformat_minor": 5
}
