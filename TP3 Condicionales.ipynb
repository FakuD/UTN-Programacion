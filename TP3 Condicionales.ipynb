{
 "cells": [
  {
   "cell_type": "code",
   "execution_count": null,
   "id": "0ee1b806",
   "metadata": {},
   "outputs": [
    {
     "name": "stdout",
     "output_type": "stream",
     "text": [
      "Es mayor de edad\n",
      "Ya puede comprar alcohol legamente\n"
     ]
    }
   ],
   "source": [
    "#Ejercicio 1\n",
    "\n",
    "edad = int(input(\"Por favor ingrese su edad\"))\n",
    "if edad > 18:\n",
    "    print(\"Es mayor de edad\")\n",
    "    print(\"Ya puede comprar alcohol legamente\") "
   ]
  },
  {
   "cell_type": "code",
   "execution_count": null,
   "id": "76721b29",
   "metadata": {},
   "outputs": [
    {
     "name": "stdout",
     "output_type": "stream",
     "text": [
      "Aprobado\n"
     ]
    }
   ],
   "source": [
    "#Ejercicio 2\n",
    "\n",
    "nota = int(input(\"Ingrese su nota de examen\"))\n",
    "if nota >= 6:\n",
    "    print(\"Aprobado\")\n",
    "else:\n",
    "    print(\"Desaprobado\")"
   ]
  },
  {
   "cell_type": "code",
   "execution_count": null,
   "id": "97369a6f",
   "metadata": {},
   "outputs": [
    {
     "name": "stdout",
     "output_type": "stream",
     "text": [
      "Te dije que fuese PAR!\n"
     ]
    }
   ],
   "source": [
    "#Ejercicio 3\n",
    "\n",
    "numero = int(input(\"Por vafor ingrese un numero Par\"))\n",
    "if numero % 2 == 0:\n",
    "    print(\"Ha ingresado un número par\")\n",
    "else:\n",
    "    print(\"Te dije que fuese PAR!\")"
   ]
  },
  {
   "cell_type": "code",
   "execution_count": null,
   "id": "39b43162",
   "metadata": {},
   "outputs": [
    {
     "name": "stdout",
     "output_type": "stream",
     "text": [
      "Eres un Adulto/a\n"
     ]
    }
   ],
   "source": [
    "#Ejercicio 4\n",
    "\n",
    "edad = int(input(\"Se le solicita su edad para determinar su categoria: \"))\n",
    "if edad < 12:\n",
    "    print(\"Eres un niño/a\")\n",
    "if edad >=12 and edad <18:\n",
    "    print(\"Eres un Adolescente\")\n",
    "if edad >=18 and edad <30:\n",
    "    print(\"Eres un joven adulto\")\n",
    "if edad >= 30:\n",
    "    print(\"Eres un Adulto/a\")"
   ]
  },
  {
   "cell_type": "code",
   "execution_count": null,
   "id": "cb814fa8",
   "metadata": {},
   "outputs": [
    {
     "name": "stdout",
     "output_type": "stream",
     "text": [
      "Se le solicita crear una contraseña de entre 8 y 14 carcacteres\n",
      "no sea tonto, vuelva a intentarlo\n"
     ]
    }
   ],
   "source": [
    "#Ejercicio 5\n",
    "\n",
    "print(\"Se le solicita crear una contraseña de entre 8 y 14 carcacteres\")\n",
    "contrasenia = input(\"Por favor ingrese una contraseña\")\n",
    "if len(contrasenia) >= 8  and len(contrasenia) <= 14:\n",
    "    print(\"Usted ha generado una contraseña con éxito, es:\", contrasenia)\n",
    "else: \n",
    "    print(\"No sea tonto, vuelva a intentarlo!\")"
   ]
  },
  {
   "cell_type": "code",
   "execution_count": 36,
   "id": "5b020858",
   "metadata": {},
   "outputs": [
    {
     "name": "stdout",
     "output_type": "stream",
     "text": [
      "Se ha generado la siguiente lista aleatoria\n",
      "[49, 73, 95, 65, 44, 5, 96, 92, 68, 50, 42, 63, 49, 85, 35, 29, 7, 60, 89, 85, 2, 70, 42, 11, 29, 74, 10, 84, 72, 66, 4, 19, 75, 71, 34, 57, 56, 23, 58, 33, 68, 12, 29, 10, 23, 50, 64, 99, 35, 75]\n",
      "y se han obtenido los siguientes datos:\n",
      "media = 50.72\n",
      "moda = 29 \n",
      "mediana: 53.0\n",
      "Con los datos obtenidos, en una distribución normal, se observa un sesgo a la Izquierda\n"
     ]
    }
   ],
   "source": [
    "#Ejercicio 6 (Muy bueno el ejercicio!)\n",
    "import random\n",
    "from statistics import mode, median, mean\n",
    "lista_aleatoria = [random.randint(1, 100) for i in range(50)]\n",
    "media = mean(lista_aleatoria)\n",
    "mediana = median(lista_aleatoria)\n",
    "moda = mode(lista_aleatoria)\n",
    "\n",
    "\n",
    "print(\"Se ha generado la siguiente lista aleatoria\")\n",
    "print(lista_aleatoria)\n",
    "print(f\"\"\"y se han obtenido los siguientes datos:\n",
    "media = {media}\n",
    "moda = {moda} \n",
    "mediana: {mediana}\"\"\")\n",
    "\n",
    "\n",
    "if media > mediana and mediana > moda:\n",
    "    print(\"Con los datos obtenidos, en una distribución normal, se observa un sesgo a la Derecha\")\n",
    "\n",
    "if media < mediana and mediana > moda:\n",
    "    print(\"Con los datos obtenidos, en una distribución normal, se observa un sesgo a la Izquierda\")\n",
    "\n",
    "if media == mediana == moda:\n",
    "    print(\"Con los datos obtenidos, en una distribución normal, no se observa sesgo\")\n",
    "\n"
   ]
  },
  {
   "cell_type": "code",
   "execution_count": 40,
   "id": "3a701422",
   "metadata": {},
   "outputs": [
    {
     "name": "stdout",
     "output_type": "stream",
     "text": [
      "patas\n"
     ]
    }
   ],
   "source": [
    "#Ejercicio 7\n",
    "#me tuve que ayudar con IA ya que no sabía como acceder a la ultima letra.\n",
    "\n",
    "frase = input(\"Introduzca una frase: \")\n",
    "\n",
    "ultima_letra = frase[-1].lower() \n",
    "\n",
    "if ultima_letra in \"aeiou\":\n",
    "    frase = frase + \"!\"\n",
    "    \n",
    "print(frase)"
   ]
  },
  {
   "cell_type": "code",
   "execution_count": null,
   "id": "743fb2a8",
   "metadata": {},
   "outputs": [
    {
     "name": "stdout",
     "output_type": "stream",
     "text": [
      "Segun las siguientes opciones:\n",
      "1 - Nombre en mayusculas\n",
      "2 - Nombre en minusculas\n",
      "3 - Primer letra mayuscula\n",
      "\n",
      "\n",
      "Su nombre es PEDRO\n"
     ]
    }
   ],
   "source": [
    "#Ejercicio 8\n",
    "\n",
    "nombre=input(\"Por favor ingrese su nombre: \")\n",
    "\n",
    "\n",
    "\n",
    "print(\"\"\"Segun las siguientes opciones:\n",
    "1 - Nombre en minusculas\n",
    "2 - Nombre en mayusculas\n",
    "3 - Primer letra mayuscula\n",
    "\n",
    "\"\"\")\n",
    "\n",
    "opcion=int(input(\"Introduzca el numero: \"))\n",
    "\n",
    "\n",
    "if opcion == 1:\n",
    "    print(f\"Su nombre es {nombre.lower()}\") \n",
    "\n",
    "if opcion == 2:\n",
    "    print(f\"Su nombre es {nombre.upper()}\")\n",
    "\n",
    "if opcion == 3:\n",
    "    print(f\"Su nombre es {nombre.tittle()}\")\n"
   ]
  },
  {
   "cell_type": "code",
   "execution_count": 63,
   "id": "9c91f070",
   "metadata": {},
   "outputs": [
    {
     "name": "stdout",
     "output_type": "stream",
     "text": [
      "Muy fuerte (te sacudió más que cuando limpias el polvo de una manta vieja)\n"
     ]
    }
   ],
   "source": [
    "#Ejercicio 9\n",
    "\n",
    "\n",
    "magnitud = int(input(\"Introduzca la maginitud del terremoto: \"))\n",
    "\n",
    "if magnitud < 3:\n",
    "    print(\"Es muy leve (es como un aleteo de una mosca, no se siente)\")\n",
    "if magnitud >= 3 and magnitud < 4:\n",
    "    print(\"Leve (se te movio el cafe pero no te diste cuenta)\")\n",
    "if magnitud >= 4 and magnitud <5:\n",
    "    print(\"Moderado (te mareaste y no por andar ayunando)\")\n",
    "if magnitud >= 5 and magnitud <6:\n",
    "    print(\"Fuerte (te hizo bailar más que cuando vas al boliche)\")\n",
    "if magnitud >= 6 and magnitud <7:\n",
    "    print(\"Muy fuerte (te sacudió más que cuando limpias el polvo de una manta vieja)\")\n",
    "if magnitud >= 7:\n",
    "    print(\"Extremo (si sobreviviste anda pensando como reconstruir la civilización)\")\n"
   ]
  },
  {
   "cell_type": "code",
   "execution_count": 92,
   "id": "05019350",
   "metadata": {},
   "outputs": [
    {
     "name": "stdout",
     "output_type": "stream",
     "text": [
      "Introduzca alguna de las dos opciones solicitadas: N/S\n",
      "Introduzca alguna de las dos opciones solicitadas: N/S\n",
      "Mes erroneo\n",
      "Mes erroneo\n",
      "Es verano\n"
     ]
    }
   ],
   "source": [
    "#Ejercicio 10\n",
    "\n",
    "\n",
    "hemisferio = input(\"En que hermisferio se encuentra? Digite N para Norte y S para sur: \")\n",
    "hemisferio = hemisferio.lower()\n",
    "\n",
    "while hemisferio != \"s\"and hemisferio != \"n\":\n",
    "    print(\"Introduzca alguna de las dos opciones solicitadas: N/S\")\n",
    "    hemisferio = input(\"En que hermisferio se encuentra? Digite N para Norte y S para sur: \")\n",
    "    hemisferio = hemisferio.lower()\n",
    "\n",
    "\n",
    "mes = int(input(\"Digite el numero del mes que se encuentra (de 0 a 12): \"))\n",
    "\n",
    "while mes < 0 or mes > 12:\n",
    "    print(\"Mes erroneo\")\n",
    "    mes=int(input(\"Vuelva a digitar el mes: \"))\n",
    "    \n",
    "dia = int(input(\"Digite el numero del dia en que se encuentra\"))\n",
    "\n",
    "\n",
    "if hemisferio == \"s\":\n",
    "    if mes == 12:\n",
    "        if dia > 21:\n",
    "            print(\"Es verano\")                \n",
    "    if mes == 1:\n",
    "        print(\"Es verano\")            \n",
    "    if mes == 2:\n",
    "        print(\"Es verano\")\n",
    "    if mes == 3:\n",
    "        if dia <21:\n",
    "            print(\"Es verano\")\n",
    "    \n",
    "\n",
    "if hemisferio == \"s\":\n",
    "    if mes == 3:\n",
    "        if dia > 21:\n",
    "            print(\"Es otoño\")\n",
    "    if mes == 4:\n",
    "        print(\"Es otoño\")\n",
    "    if mes == 5:\n",
    "        print(\"Es otoño\")\n",
    "    if mes == 6:\n",
    "        if dia <21:\n",
    "            print(\"Es otoño\")\n",
    "\n",
    "if hemisferio == \"s\":\n",
    "    if mes == 6:\n",
    "        if dia > 21:\n",
    "            print(\"Es invierno\")\n",
    "    if mes == 7:\n",
    "        print(\"Es inverno\")\n",
    "    if mes == 8:\n",
    "        print(\"Es invierno\")\n",
    "    if mes ==9:\n",
    "        if dia < 21:\n",
    "            print (\"Es invierno\")\n",
    "\n",
    "if hemisferio == \"s\":\n",
    "    if mes == 9:\n",
    "        if dia > 21:\n",
    "            print(\"Es primavera\")\n",
    "    if mes == 10:\n",
    "        print(\"Es primavera\")\n",
    "    if mes == 11:\n",
    "        print(\"Es primavera\")\n",
    "    if mes == 12:\n",
    "        if dia < 21:\n",
    "            print( \"Es primavera\")\n",
    "\n",
    "\n",
    "if hemisferio == \"n\":\n",
    "    if mes == 12:\n",
    "        if dia > 21:\n",
    "            print(\"Es invierno\")                \n",
    "    if mes == 1:\n",
    "        print(\"Es invierno\")            \n",
    "    if mes == 2:\n",
    "        print(\"Es invierno\")\n",
    "    if mes == 3:\n",
    "        if dia <21:\n",
    "            print(\"Es invierno\")\n",
    "    \n",
    "\n",
    "if hemisferio == \"n\":\n",
    "    if mes == 3:\n",
    "        if dia > 21:\n",
    "            print(\"Es primavera\")\n",
    "    if mes == 4:\n",
    "        print(\"Es primavera\")\n",
    "    if mes == 5:\n",
    "        print(\"Es primavera\")\n",
    "    if mes == 6:\n",
    "        if dia <21:\n",
    "            print(\"Es primavera\")\n",
    "\n",
    "if hemisferio == \"n\":\n",
    "    if mes == 6:\n",
    "        if dia > 21:\n",
    "            print(\"Es verano\")\n",
    "    if mes == 7:\n",
    "        print(\"Es verano\")\n",
    "    if mes == 8:\n",
    "        print(\"Es verano\")\n",
    "    if mes ==9:\n",
    "        if dia < 21:\n",
    "            print (\"Es verano\")\n",
    "\n",
    "if hemisferio == \"n\":\n",
    "    if mes == 9:\n",
    "        if dia > 21:\n",
    "            print(\"Es otoño\")\n",
    "    if mes == 10:\n",
    "        print(\"Es otoño\")\n",
    "    if mes == 11:\n",
    "        print(\"Es otoño\")\n",
    "    if mes == 12:\n",
    "        if dia < 21:\n",
    "            print( \"Es otoño\")\n",
    "\n"
   ]
  }
 ],
 "metadata": {
  "kernelspec": {
   "display_name": "Python 3",
   "language": "python",
   "name": "python3"
  },
  "language_info": {
   "codemirror_mode": {
    "name": "ipython",
    "version": 3
   },
   "file_extension": ".py",
   "mimetype": "text/x-python",
   "name": "python",
   "nbconvert_exporter": "python",
   "pygments_lexer": "ipython3",
   "version": "3.11.0"
  }
 },
 "nbformat": 4,
 "nbformat_minor": 5
}
