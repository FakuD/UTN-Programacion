{
 "cells": [
  {
   "cell_type": "code",
   "execution_count": 1,
   "id": "0ee1b806",
   "metadata": {},
   "outputs": [
    {
     "name": "stdout",
     "output_type": "stream",
     "text": [
      "0\n",
      "1\n",
      "2\n",
      "3\n",
      "4\n",
      "5\n",
      "6\n",
      "7\n",
      "8\n",
      "9\n",
      "10\n",
      "11\n",
      "12\n",
      "13\n",
      "14\n",
      "15\n",
      "16\n",
      "17\n",
      "18\n",
      "19\n",
      "20\n",
      "21\n",
      "22\n",
      "23\n",
      "24\n",
      "25\n",
      "26\n",
      "27\n",
      "28\n",
      "29\n",
      "30\n",
      "31\n",
      "32\n",
      "33\n",
      "34\n",
      "35\n",
      "36\n",
      "37\n",
      "38\n",
      "39\n",
      "40\n",
      "41\n",
      "42\n",
      "43\n",
      "44\n",
      "45\n",
      "46\n",
      "47\n",
      "48\n",
      "49\n",
      "50\n",
      "51\n",
      "52\n",
      "53\n",
      "54\n",
      "55\n",
      "56\n",
      "57\n",
      "58\n",
      "59\n",
      "60\n",
      "61\n",
      "62\n",
      "63\n",
      "64\n",
      "65\n",
      "66\n",
      "67\n",
      "68\n",
      "69\n",
      "70\n",
      "71\n",
      "72\n",
      "73\n",
      "74\n",
      "75\n",
      "76\n",
      "77\n",
      "78\n",
      "79\n",
      "80\n",
      "81\n",
      "82\n",
      "83\n",
      "84\n",
      "85\n",
      "86\n",
      "87\n",
      "88\n",
      "89\n",
      "90\n",
      "91\n",
      "92\n",
      "93\n",
      "94\n",
      "95\n",
      "96\n",
      "97\n",
      "98\n",
      "99\n",
      "100\n"
     ]
    }
   ],
   "source": [
    "#Ejercicio 1\n",
    "\n",
    "for i in range(0,101):\n",
    "    print(i)"
   ]
  },
  {
   "cell_type": "code",
   "execution_count": 5,
   "id": "76721b29",
   "metadata": {},
   "outputs": [
    {
     "name": "stdout",
     "output_type": "stream",
     "text": [
      "el numero tiene 4 decimales\n"
     ]
    }
   ],
   "source": [
    "#Ejercicio 2\n",
    "\n",
    "num=int(input(\"Digite un numero entero: \"))\n",
    "cont = 0\n",
    "\n",
    "while num > 0:\n",
    "    num=  num // 10 \n",
    "    cont+=1\n",
    "print(f\"el numero tiene {cont} decimales\")"
   ]
  },
  {
   "cell_type": "code",
   "execution_count": null,
   "id": "97369a6f",
   "metadata": {},
   "outputs": [
    {
     "name": "stdout",
     "output_type": "stream",
     "text": [
      "Se le solicita dos numeros\n",
      "la suma comprendida entre los enteros de los numeros digitados es :25\n"
     ]
    }
   ],
   "source": [
    "#Ejercicio 3\n",
    "\n",
    "print(\"Se le solicitan dos numeros\")\n",
    "num1=int(input(\"Digite el numero 1: \"))\n",
    "num2=int(input(\"Digite el numero 2: \"))\n",
    "suma=0\n",
    "for i in range(num1+1,num2):\n",
    "    suma+=i\n",
    "\n",
    "print(f\"la suma comprendida entre los enteros de los numeros digitados es :{suma}\")\n"
   ]
  },
  {
   "cell_type": "code",
   "execution_count": 20,
   "id": "39b43162",
   "metadata": {},
   "outputs": [
    {
     "name": "stdout",
     "output_type": "stream",
     "text": [
      "Suma de numeros en secuencia\n",
      "Pulse 0 para detener el programa\n",
      "el total de la suma es: 15\n"
     ]
    }
   ],
   "source": [
    "#Ejercicio 4\n",
    "\n",
    "print(\"Suma de numeros en secuencia\")\n",
    "print(\"Pulse 0 para detener el programa\")\n",
    "suma =0\n",
    "num=int(input(\"Ingrese un numero: \"))\n",
    "\n",
    "while num != 0:    \n",
    "    suma = suma + num   \n",
    "    num = int(input(\"Ingrese un numero: \"))\n",
    "\n",
    "print(f\"el total de la suma es: {suma}\")\n"
   ]
  },
  {
   "cell_type": "code",
   "execution_count": null,
   "id": "cb814fa8",
   "metadata": {},
   "outputs": [
    {
     "name": "stdout",
     "output_type": "stream",
     "text": [
      "Adivina el numero\n"
     ]
    }
   ],
   "source": [
    "#Ejercicio 5\n",
    "\n",
    "import random \n",
    "\n",
    "print(\"Adivina el numero\")\n",
    "intentos = 0\n",
    "num_misterioso=random.randint(0,9)\n",
    "\n",
    "num=int(input(\"intente adivinar el numero entre 0 y 9\"))\n",
    "\n",
    "while num != num_misterioso:\n",
    "    intentos +=1\n",
    "    num=int(input(f\"intente adivinar el numero entre 0 y 9, lleva {intentos} intentos\"))\n",
    "    \n",
    "\n",
    "if num == num_misterioso:\n",
    "    print(f\"Bravo! has adivinado el numero en el intento n° {intentos}\")\n",
    "\n",
    "\n",
    "\n"
   ]
  },
  {
   "cell_type": "code",
   "execution_count": 8,
   "id": "5b020858",
   "metadata": {},
   "outputs": [
    {
     "name": "stdout",
     "output_type": "stream",
     "text": [
      "100\n",
      "99\n",
      "98\n",
      "97\n",
      "96\n",
      "95\n",
      "94\n",
      "93\n",
      "92\n",
      "91\n",
      "90\n",
      "89\n",
      "88\n",
      "87\n",
      "86\n",
      "85\n",
      "84\n",
      "83\n",
      "82\n",
      "81\n",
      "80\n",
      "79\n",
      "78\n",
      "77\n",
      "76\n",
      "75\n",
      "74\n",
      "73\n",
      "72\n",
      "71\n",
      "70\n",
      "69\n",
      "68\n",
      "67\n",
      "66\n",
      "65\n",
      "64\n",
      "63\n",
      "62\n",
      "61\n",
      "60\n",
      "59\n",
      "58\n",
      "57\n",
      "56\n",
      "55\n",
      "54\n",
      "53\n",
      "52\n",
      "51\n",
      "50\n",
      "49\n",
      "48\n",
      "47\n",
      "46\n",
      "45\n",
      "44\n",
      "43\n",
      "42\n",
      "41\n",
      "40\n",
      "39\n",
      "38\n",
      "37\n",
      "36\n",
      "35\n",
      "34\n",
      "33\n",
      "32\n",
      "31\n",
      "30\n",
      "29\n",
      "28\n",
      "27\n",
      "26\n",
      "25\n",
      "24\n",
      "23\n",
      "22\n",
      "21\n",
      "20\n",
      "19\n",
      "18\n",
      "17\n",
      "16\n",
      "15\n",
      "14\n",
      "13\n",
      "12\n",
      "11\n",
      "10\n",
      "9\n",
      "8\n",
      "7\n",
      "6\n",
      "5\n",
      "4\n",
      "3\n",
      "2\n",
      "1\n",
      "0\n"
     ]
    }
   ],
   "source": [
    "#Ejercicio 6 \n",
    "\n",
    "for num in range(100,-1,-1):\n",
    "    print(num)\n",
    "\n",
    "\n"
   ]
  },
  {
   "cell_type": "code",
   "execution_count": 21,
   "id": "3a701422",
   "metadata": {},
   "outputs": [
    {
     "name": "stdout",
     "output_type": "stream",
     "text": [
      "ingrese un numero positivo\n"
     ]
    }
   ],
   "source": [
    "#Ejercicio 7\n",
    "\n",
    "num1= int(input(\"ingrese un numero\"))\n",
    "suma = 0\n",
    "if num1 > 0:\n",
    "    for i in range(0,num1):    \n",
    "        suma+=i\n",
    "    print(suma)\n",
    "\n",
    "else:\n",
    "    print(\"ingrese un numero positivo\")\n",
    "\n",
    "\n",
    "\n",
    "\n"
   ]
  },
  {
   "cell_type": "code",
   "execution_count": null,
   "id": "743fb2a8",
   "metadata": {},
   "outputs": [
    {
     "name": "stdout",
     "output_type": "stream",
     "text": [
      "la cantidad de numeros positivos ingresados fue 5 \n",
      " la cantidad de numeros negativos fue 5\n"
     ]
    }
   ],
   "source": [
    "#Ejercicio 8\n",
    "\n",
    "cont=0\n",
    "cont_menos=0\n",
    "\n",
    "for i in range(0,100):\n",
    "    i=int(input(\"Digite un numero: \"))\n",
    "    if i > 0:\n",
    "        cont+=1\n",
    "    elif i < 0:\n",
    "        cont_menos+=1\n",
    "\n",
    "\n",
    "print(f\"la cantidad de numeros positivos ingresados fue {cont} \\n la cantidad de numeros negativos fue {cont_menos}\")\n",
    "\n",
    "\n"
   ]
  },
  {
   "cell_type": "code",
   "execution_count": null,
   "id": "9c91f070",
   "metadata": {},
   "outputs": [
    {
     "name": "stdout",
     "output_type": "stream",
     "text": [
      "la media de los datos ingresados son:  5.5\n"
     ]
    }
   ],
   "source": [
    "#Ejercicio 9\n",
    "\n",
    "from statistics import mean\n",
    "media=[]\n",
    "\n",
    "for i in range(0,10):\n",
    "    i=int(input(\"Digite un numero: \"))\n",
    "    media.append(i)\n",
    "\n",
    "\n",
    "print(\"La media de los datos ingresados son: \", mean(media))\n",
    "\n",
    "\n"
   ]
  },
  {
   "cell_type": "code",
   "execution_count": null,
   "id": "05019350",
   "metadata": {},
   "outputs": [
    {
     "name": "stdout",
     "output_type": "stream",
     "text": [
      "54321\n"
     ]
    }
   ],
   "source": [
    "#Ejercicio 10\n",
    "\n",
    "\n",
    "num = 12345\n",
    "invertido = 0\n",
    "\n",
    "while num > 0:\n",
    "    resto = num % 10              \n",
    "    invertido = invertido * 10 + resto    \n",
    "    num = num // 10\n",
    "    \n",
    "\n",
    "print(invertido)\n"
   ]
  }
 ],
 "metadata": {
  "kernelspec": {
   "display_name": "Python 3",
   "language": "python",
   "name": "python3"
  },
  "language_info": {
   "codemirror_mode": {
    "name": "ipython",
    "version": 3
   },
   "file_extension": ".py",
   "mimetype": "text/x-python",
   "name": "python",
   "nbconvert_exporter": "python",
   "pygments_lexer": "ipython3",
   "version": "3.11.0"
  }
 },
 "nbformat": 4,
 "nbformat_minor": 5
}
