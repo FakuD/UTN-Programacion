{
 "cells": [
  {
   "cell_type": "code",
   "execution_count": 1,
   "id": "2b7dd49c",
   "metadata": {},
   "outputs": [
    {
     "name": "stdout",
     "output_type": "stream",
     "text": [
      "Hola Inmundo!\n"
     ]
    }
   ],
   "source": [
    "#Ejercicio 1\n",
    "\n",
    "def saludar():\n",
    "    print(\"Hola Inmundo!\")\n",
    "\n",
    "saludar()"
   ]
  },
  {
   "cell_type": "code",
   "execution_count": 2,
   "id": "6bf66d44",
   "metadata": {},
   "outputs": [
    {
     "name": "stdout",
     "output_type": "stream",
     "text": [
      "Hola Facundo\n"
     ]
    }
   ],
   "source": [
    "\n",
    "#Ejercicio 2\n",
    "\n",
    "def saludar(nombre):\n",
    "    print(f\"Hola {nombre}\")\n",
    "\n",
    "nom = input(\"Digita tu nombre: \")\n",
    "saludar(nom)"
   ]
  },
  {
   "cell_type": "code",
   "execution_count": 4,
   "id": "ea2bb858",
   "metadata": {},
   "outputs": [
    {
     "name": "stdout",
     "output_type": "stream",
     "text": [
      "Hola!, soy Facundo tengo 31 años y vivo en Argen\n"
     ]
    }
   ],
   "source": [
    "#Ejercicio 3\n",
    "\n",
    "def persona(nombre, apellido, residencia, edad):\n",
    "    print(f\"Hola!, soy {nombre} tengo {edad} años y vivo en {residencia}\")\n",
    "\n",
    "nombre = input(\"Digite su nombre: \")\n",
    "apellido = input (\"Digite su apellido: \")\n",
    "edad = input(\"Digite su edad: \")\n",
    "residencia = input(\"De donde eres: \")\n",
    "\n",
    "persona(nombre, apellido, residencia, edad)"
   ]
  },
  {
   "cell_type": "code",
   "execution_count": null,
   "id": "cc238077",
   "metadata": {},
   "outputs": [
    {
     "name": "stdout",
     "output_type": "stream",
     "text": [
      "El area es 6.28 \n",
      " el perimetro es 12.56\n"
     ]
    }
   ],
   "source": [
    "#Ejer 5\n",
    "\n",
    "def calcular_area(radio):    \n",
    "    area = 3.14 * radio\n",
    "    return area \n",
    "\n",
    "def calcular_perimetro(radio):\n",
    "    perimetro = 2*3.14*radio\n",
    "    return perimetro\n",
    "\n",
    "radio = int(input(\"Ingrese el radio de un circulo para conocer su area y su perimetro: \"))\n",
    "\n",
    "print(f\"El area es {calcular_area(radio)} \\n el perimetro es {calcular_perimetro(radio)}\")\n",
    "\n"
   ]
  },
  {
   "cell_type": "code",
   "execution_count": null,
   "id": "c952bb1c",
   "metadata": {},
   "outputs": [
    {
     "name": "stdout",
     "output_type": "stream",
     "text": [
      "Para 5000 segundos hay 1 horas y 23 minutos\n"
     ]
    }
   ],
   "source": [
    "#Ejer 5\n",
    "\n",
    "def segundos_a_horas(segundos):\n",
    "    horas = segundos //3600\n",
    "    if segundos % 3600 != 0:     \n",
    "        minutos = segundos % 3600 // 60\n",
    "    \n",
    "    print(f\"Para {segundos} segundos hay {horas} horas y {minutos} minutos\")\n",
    "\n",
    "segundos = int(input(\"Introduzca la cantidad de segundos para conocer sus horas: \"))\n",
    "\n",
    "segundos_a_horas(segundos)"
   ]
  },
  {
   "cell_type": "code",
   "execution_count": 27,
   "id": "cdb44095",
   "metadata": {},
   "outputs": [
    {
     "name": "stdout",
     "output_type": "stream",
     "text": [
      "El 9 X 1 = 9\n",
      "El 9 X 2 = 18\n",
      "El 9 X 3 = 27\n",
      "El 9 X 4 = 36\n",
      "El 9 X 5 = 45\n",
      "El 9 X 6 = 54\n",
      "El 9 X 7 = 63\n",
      "El 9 X 8 = 72\n",
      "El 9 X 9 = 81\n",
      "El 9 X 10 = 90\n"
     ]
    }
   ],
   "source": [
    "#Ejerc 6\n",
    "\n",
    "def tabla_multiplicar(numero):\n",
    "    for i in range(1, 11):\n",
    "        tabla = i * numero\n",
    "        print(f\"El {numero} X {i} = {tabla}\")\n",
    "\n",
    "numero=int(input(\"Digite un numero para saber su tabla: \"))\n",
    "tabla_multiplicar(numero)"
   ]
  },
  {
   "cell_type": "code",
   "execution_count": 30,
   "id": "121c490a",
   "metadata": {},
   "outputs": [
    {
     "name": "stdout",
     "output_type": "stream",
     "text": [
      "La suma es: 12 \n",
      " La resta es: 4 \n",
      " La multiplicacion es: 32 \n",
      " La division es: 2.0\n"
     ]
    }
   ],
   "source": [
    "#Ejerc 7\n",
    "\n",
    "def operaciones_basicas(a, b):\n",
    "    suma = a + b\n",
    "    resta = a - b\n",
    "    mult = a * b\n",
    "    div = a/b\n",
    "    print(f\"La suma es: {suma} \\n La resta es: {resta} \\n La multiplicacion es: {mult} \\n La division es: {div}\")\n",
    "\n",
    "num1 = int(input(\"Digite un numero: \"))\n",
    "num2 = int(input(\"Digite otro numero: \"))\n",
    "\n",
    "operaciones_basicas(num1,num2)"
   ]
  },
  {
   "cell_type": "code",
   "execution_count": null,
   "id": "3210f7c8",
   "metadata": {},
   "outputs": [],
   "source": []
  }
 ],
 "metadata": {
  "kernelspec": {
   "display_name": "llm_cuda",
   "language": "python",
   "name": "python3"
  },
  "language_info": {
   "codemirror_mode": {
    "name": "ipython",
    "version": 3
   },
   "file_extension": ".py",
   "mimetype": "text/x-python",
   "name": "python",
   "nbconvert_exporter": "python",
   "pygments_lexer": "ipython3",
   "version": "3.11.11"
  }
 },
 "nbformat": 4,
 "nbformat_minor": 5
}
